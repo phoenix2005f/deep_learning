{
 "cells": [
  {
   "cell_type": "code",
   "execution_count": 1,
   "metadata": {},
   "outputs": [],
   "source": [
    "import torch\n",
    "from torchvision import datasets\n",
    "from torchvision.transforms import transforms\n",
    "import numpy as np\n",
    "import matplotlib.pyplot as plt\n",
    "%matplotlib inline"
   ]
  },
  {
   "cell_type": "code",
   "execution_count": 2,
   "metadata": {},
   "outputs": [],
   "source": [
    "transform = transforms.ToTensor()\n",
    "train_data = datasets.MNIST('data',train=True,download=True,transform=transform)\n",
    "test_data = datasets.MNIST('data',train=False,download=False,transform=transform)\n"
   ]
  },
  {
   "cell_type": "code",
   "execution_count": 3,
   "metadata": {},
   "outputs": [],
   "source": [
    "num_workers=0\n",
    "batch_size=20\n",
    "\n",
    "train_loader = torch.utils.data.DataLoader(train_data,batch_size=batch_size,shuffle=True,num_workers=num_workers)\n",
    "test_loader = torch.utils.data.DataLoader(test_data,batch_size=batch_size,shuffle=True,num_workers=num_workers)"
   ]
  },
  {
   "cell_type": "markdown",
   "metadata": {},
   "source": [
    "# 視覺化一張數字圖"
   ]
  },
  {
   "cell_type": "code",
   "execution_count": 4,
   "metadata": {},
   "outputs": [
    {
     "data": {
      "text/plain": [
       "<matplotlib.image.AxesImage at 0x7fa7df72cf28>"
      ]
     },
     "execution_count": 4,
     "metadata": {},
     "output_type": "execute_result"
    },
    {
     "data": {
      "image/png": "[encoded data removed]",
      "text/plain": [
       "<matplotlib.figure.Figure at 0x7fa7e2dd0860>"
      ]
     },
     "metadata": {
      "needs_background": "light"
     },
     "output_type": "display_data"
    }
   ],
   "source": [
    "dataiter = iter(train_loader)\n",
    "imgs,labels = next(dataiter)\n",
    "\n",
    "imgs = imgs.numpy()\n",
    "img = np.squeeze(imgs[0])\n",
    "\n",
    "fig = plt.figure(figsize=(10,10))\n",
    "ax = fig.add_subplot(111)\n",
    "ax.imshow(img,cmap='gray')"
   ]
  },
  {
   "cell_type": "code",
   "execution_count": 5,
   "metadata": {},
   "outputs": [],
   "source": [
    "import torch.nn as nn\n",
    "import torch.nn.functional as F\n",
    "import torch.optim as optim\n"
   ]
  },
  {
   "cell_type": "code",
   "execution_count": 6,
   "metadata": {},
   "outputs": [],
   "source": [
    "def conv2d(in_channel,out_channel):\n",
    "    return nn.Conv2d(in_channel,out_channel,3,1,1)\n",
    "def deconv2d(in_channel,out_channel):\n",
    "    return nn.ConvTranspose2d(in_channel,out_channel,4,2,1)"
   ]
  },
  {
   "cell_type": "code",
   "execution_count": 7,
   "metadata": {},
   "outputs": [
    {
     "name": "stdout",
     "output_type": "stream",
     "text": [
      "ConvAutoencoder(\n",
      "  (conv1): Conv2d(1, 16, kernel_size=(3, 3), stride=(1, 1), padding=(1, 1))\n",
      "  (conv2): Conv2d(16, 4, kernel_size=(3, 3), stride=(1, 1), padding=(1, 1))\n",
      "  (pool): MaxPool2d(kernel_size=2, stride=2, padding=0, dilation=1, ceil_mode=False)\n",
      "  (t_conv1): ConvTranspose2d(4, 16, kernel_size=(4, 4), stride=(2, 2), padding=(1, 1))\n",
      "  (t_conv2): ConvTranspose2d(16, 1, kernel_size=(4, 4), stride=(2, 2), padding=(1, 1))\n",
      ")\n"
     ]
    }
   ],
   "source": [
    "class ConvAutoencoder(nn.Module):\n",
    "    def __init__(self):\n",
    "        super(ConvAutoencoder,self).__init__()\n",
    "        # 28*28\n",
    "        self.conv1 = conv2d(1,16)\n",
    "        \n",
    "        # 14*14\n",
    "        self.conv2 = conv2d(16,4)\n",
    "        \n",
    "        #7*7\n",
    "        self.pool = nn.MaxPool2d(2,2)\n",
    "        \n",
    "        #14*14\n",
    "        self.t_conv1 = deconv2d(4,16)\n",
    "        self.t_conv2 = deconv2d(16,1)\n",
    "        \n",
    "    def forward(self,x):\n",
    "        # encode\n",
    "        x = self.pool(F.relu(self.conv1(x)))\n",
    "        code = self.pool(F.relu(self.conv2(x)))\n",
    "        #decode\n",
    "        x = F.relu(self.t_conv1(code))\n",
    "\n",
    "        x = F.sigmoid(self.t_conv2(x))\n",
    "        \n",
    "        return x , code\n",
    "    \n",
    "model = ConvAutoencoder()\n",
    "print(model)"
   ]
  },
  {
   "cell_type": "code",
   "execution_count": 8,
   "metadata": {},
   "outputs": [],
   "source": [
    "criterion = nn.MSELoss()\n",
    "optimizer = optim.Adam(model.parameters(),lr=0.001)"
   ]
  },
  {
   "cell_type": "code",
   "execution_count": 10,
   "metadata": {},
   "outputs": [
    {
     "name": "stdout",
     "output_type": "stream",
     "text": [
      "1/20 train loss:0.1423\n",
      "2/20 train loss:0.1273\n",
      "3/20 train loss:0.1217\n",
      "4/20 train loss:0.1171\n",
      "5/20 train loss:0.1137\n",
      "6/20 train loss:0.1110\n",
      "7/20 train loss:0.1087\n",
      "8/20 train loss:0.1070\n",
      "9/20 train loss:0.1056\n",
      "10/20 train loss:0.1045\n",
      "11/20 train loss:0.1036\n",
      "12/20 train loss:0.1028\n",
      "13/20 train loss:0.1021\n",
      "14/20 train loss:0.1015\n",
      "15/20 train loss:0.1009\n",
      "16/20 train loss:0.1003\n",
      "17/20 train loss:0.0996\n",
      "18/20 train loss:0.0990\n",
      "19/20 train loss:0.0984\n",
      "20/20 train loss:0.0978\n"
     ]
    }
   ],
   "source": [
    "epochs = 20\n",
    "for epoch in range(epochs):\n",
    "    \n",
    "    train_loss=0\n",
    "    for imgs,_ in train_loader:\n",
    "        \n",
    "        optimizer.zero_grad()\n",
    "        out,code = model(imgs)\n",
    "    \n",
    "        \n",
    "        loss = criterion(out,imgs)\n",
    "        loss.backward()\n",
    "        optimizer.step()\n",
    "        train_loss+=loss.item()*imgs.size(0)\n",
    "        \n",
    "    train_loss = train_loss/len(train_loader)\n",
    "    print(\"{}/{} train loss:{:.4f}\".format(epoch+1,epochs,train_loss))\n",
    "        \n",
    "        "
   ]
  },
  {
   "cell_type": "code",
   "execution_count": 20,
   "metadata": {},
   "outputs": [
    {
     "data": {
      "image/png": "[encoded data removed]",
      "text/plain": [
       "<matplotlib.figure.Figure at 0x7fa7dd4949b0>"
      ]
     },
     "metadata": {
      "needs_background": "light"
     },
     "output_type": "display_data"
    }
   ],
   "source": [
    "\n",
    "dataiter = iter(test_loader)\n",
    "images, labels = dataiter.next()\n",
    "\n",
    "\n",
    "output,_ = model(images)\n",
    "images = images.numpy()\n",
    "\n",
    "\n",
    "output = output.view(batch_size, 1, 28, 28)\n",
    "output = output.detach().numpy()\n",
    "\n",
    "\n",
    "fig, axes = plt.subplots(nrows=2, ncols=10, sharex=True, sharey=True, figsize=(25,4))\n",
    "\n",
    "\n",
    "for images, row in zip([images, output], axes):\n",
    "    for img, ax in zip(images, row):\n",
    "        ax.imshow(np.squeeze(img), cmap='gray')\n",
    "        ax.get_xaxis().set_visible(False)\n",
    "        ax.get_yaxis().set_visible(False)"
   ]
  },
  {
   "cell_type": "code",
   "execution_count": null,
   "metadata": {},
   "outputs": [],
   "source": []
  }
 ],
 "metadata": {
  "kernelspec": {
   "display_name": "Python 3",
   "language": "python",
   "name": "python3"
  },
  "language_info": {
   "codemirror_mode": {
    "name": "ipython",
    "version": 3
   },
   "file_extension": ".py",
   "mimetype": "text/x-python",
   "name": "python",
   "nbconvert_exporter": "python",
   "pygments_lexer": "ipython3",
   "version": "3.6.3"
  }
 },
 "nbformat": 4,
 "nbformat_minor": 2
}
