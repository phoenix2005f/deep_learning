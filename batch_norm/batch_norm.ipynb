{
  "nbformat": 4,
  "nbformat_minor": 0,
  "metadata": {
    "colab": {
      "name": "batch_norm.ipynb",
      "version": "0.3.2",
      "provenance": [],
      "collapsed_sections": []
    },
    "kernelspec": {
      "name": "python3",
      "display_name": "Python 3"
    },
    "accelerator": "GPU"
  },
  "cells": [
    {
      "metadata": {
        "id": "6tvpjdo79EH7",
        "colab_type": "code",
        "outputId": "4e79c658-1c00-4fdf-9db6-3148992135a9",
        "colab": {
          "base_uri": "https://localhost:8080/",
          "height": 54
        }
      },
      "cell_type": "code",
      "source": [
        "!pip install -q torch==1.0.0 torchvision"
      ],
      "execution_count": 2,
      "outputs": [
        {
          "output_type": "stream",
          "text": [
            "tcmalloc: large alloc 1073750016 bytes == 0x618fe000 @  0x7fc8464b92a4 0x591a07 0x5b5d56 0x502e9a 0x506859 0x502209 0x502f3d 0x506859 0x504c28 0x502540 0x502f3d 0x506859 0x504c28 0x502540 0x502f3d 0x506859 0x504c28 0x502540 0x502f3d 0x507641 0x502209 0x502f3d 0x506859 0x504c28 0x502540 0x502f3d 0x507641 0x504c28 0x502540 0x502f3d 0x507641\n"
          ],
          "name": "stdout"
        }
      ]
    },
    {
      "metadata": {
        "id": "gHdU7zqozCL7",
        "colab_type": "code",
        "outputId": "62f4baf7-ea78-40bc-b789-69dd78e89ae7",
        "colab": {
          "base_uri": "https://localhost:8080/",
          "height": 34
        }
      },
      "cell_type": "code",
      "source": [
        "torch.cuda.is_available()"
      ],
      "execution_count": 5,
      "outputs": [
        {
          "output_type": "execute_result",
          "data": {
            "text/plain": [
              "True"
            ]
          },
          "metadata": {
            "tags": []
          },
          "execution_count": 5
        }
      ]
    },
    {
      "metadata": {
        "id": "1aPn5ye54_Cj",
        "colab_type": "code",
        "colab": {}
      },
      "cell_type": "code",
      "source": [
        "import numpy as np\n",
        "import matplotlib.pyplot as plt\n",
        "import torch\n",
        "from torchvision import datasets\n",
        "import torchvision.transforms as transforms"
      ],
      "execution_count": 0,
      "outputs": []
    },
    {
      "metadata": {
        "id": "aNcT5f6mnmKy",
        "colab_type": "code",
        "colab": {
          "base_uri": "https://localhost:8080/",
          "height": 119
        },
        "outputId": "0e3d280c-cee2-4fd8-e006-d138c9d75898"
      },
      "cell_type": "code",
      "source": [
        "num_worker = 0\n",
        "\n",
        "batch_size = 64\n",
        "\n",
        "transform = transforms.ToTensor()\n",
        "\n",
        "train_data = datasets.MNIST(root='data',train=True,transform=transform,download=True)\n",
        "test_data = datasets.MNIST(root='data',train=False,transform=transform,download=True)\n",
        "\n",
        "train_loader = torch.utils.data.DataLoader(train_data,batch_size=batch_size,num_workers=num_worker)\n",
        "test_loader = torch.utils.data.DataLoader(test_data,batch_size=batch_size,num_workers=num_worker)\n",
        "\n",
        "\n"
      ],
      "execution_count": 9,
      "outputs": [
        {
          "output_type": "stream",
          "text": [
            "Downloading http://yann.lecun.com/exdb/mnist/train-images-idx3-ubyte.gz\n",
            "Downloading http://yann.lecun.com/exdb/mnist/train-labels-idx1-ubyte.gz\n",
            "Downloading http://yann.lecun.com/exdb/mnist/t10k-images-idx3-ubyte.gz\n",
            "Downloading http://yann.lecun.com/exdb/mnist/t10k-labels-idx1-ubyte.gz\n",
            "Processing...\n",
            "Done!\n"
          ],
          "name": "stdout"
        }
      ]
    },
    {
      "metadata": {
        "id": "PBd64TFYn2kb",
        "colab_type": "code",
        "colab": {
          "base_uri": "https://localhost:8080/",
          "height": 282
        },
        "outputId": "19b08e4a-8410-432b-931c-d549f860c9a6"
      },
      "cell_type": "code",
      "source": [
        "data_iter = iter(train_loader)\n",
        "imgs,label = data_iter.next()\n",
        "imgs = imgs.numpy()\n",
        "\n",
        "img = imgs[0].squeeze()\n",
        "\n",
        "fig = plt.figure(figsize=(4,4))\n",
        "ax = fig.add_subplot(111)\n",
        "ax.imshow(img,cmap='gray')\n"
      ],
      "execution_count": 15,
      "outputs": [
        {
          "output_type": "execute_result",
          "data": {
            "text/plain": [
              "<matplotlib.image.AxesImage at 0x7f6f00c9c978>"
            ]
          },
          "metadata": {
            "tags": []
          },
          "execution_count": 15
        },
        {
          "output_type": "display_data",
          "data": {
            "image/png": "[encoded data removed]",
            "text/plain": [
              "<Figure size 288x288 with 1 Axes>"
            ]
          },
          "metadata": {
            "tags": []
          }
        }
      ]
    },
    {
      "metadata": {
        "id": "dbbU3eT_nnCS",
        "colab_type": "code",
        "colab": {}
      },
      "cell_type": "code",
      "source": [
        "import torch.nn as nn\n",
        "import torch.nn.functional as F"
      ],
      "execution_count": 0,
      "outputs": []
    },
    {
      "metadata": {
        "id": "DYNCc0iv1VQA",
        "colab_type": "code",
        "colab": {}
      },
      "cell_type": "code",
      "source": [
        "class NeuralNet(nn.Module):\n",
        "  \n",
        "  def __init__(self,use_batch_norm,input_size=784,hidden_dim=256,output_size=10):\n",
        "    super(NeuralNet,self).__init__()\n",
        "    \n",
        "    self.input_size = input_size\n",
        "    self.hidden_dim = hidden_dim\n",
        "    self.output_size = output_size\n",
        "    self.use_batch_norm = use_batch_norm\n",
        "    \n",
        "    if use_batch_norm:\n",
        "      self.fc1 = nn.Linear(input_size,hidden_dim*2,bias=False)\n",
        "      self.batch_norm1 = nn.BatchNorm1d(hidden_dim*2)\n",
        "      self.fc2 = nn.Linear(hidden_dim*2,hidden_dim*4,bias=False)\n",
        "      self.batch_norm2 = nn.BatchNorm1d(hidden_dim*4)\n",
        "      \n",
        "      \n",
        "    else:\n",
        "      self.fc1 = nn.Linear(input_size,hidden_dim*2)\n",
        "      self.fc2 = nn.Linear(hidden_dim*2,hidden_dim*4)\n",
        "      \n",
        "    self.fc3 = nn.Linear(hidden_dim*4,output_size)\n",
        "    \n",
        "  def forward(self,x):\n",
        "    \n",
        "    x = x.view(-1,28*28)\n",
        "    if self.use_batch_norm:\n",
        "      x = self.fc1(x)\n",
        "      x = self.batch_norm1(x)\n",
        "      x = self.fc2(x)\n",
        "      x = self.batch_norm2(x)\n",
        "    else:\n",
        "      x = self.fc1(x)\n",
        "      x = self.fc2(x)\n",
        "    x = self.fc3(x)\n",
        "   \n",
        "  \n",
        "    return x\n",
        "    \n",
        "    \n",
        "  "
      ],
      "execution_count": 0,
      "outputs": []
    },
    {
      "metadata": {
        "id": "2jaM3948nkh3",
        "colab_type": "code",
        "colab": {
          "base_uri": "https://localhost:8080/",
          "height": 238
        },
        "outputId": "cbe3b34d-e6ff-4de0-c3ee-44b3215c4d04"
      },
      "cell_type": "code",
      "source": [
        "net_batchnorm = NeuralNet(use_batch_norm=True)\n",
        "net_no_batchnorm = NeuralNet(use_batch_norm=False)\n",
        "\n",
        "print(net_batchnorm)\n",
        "print()\n",
        "print(net_no_batchnorm)"
      ],
      "execution_count": 28,
      "outputs": [
        {
          "output_type": "stream",
          "text": [
            "NeuralNet(\n",
            "  (fc1): Linear(in_features=784, out_features=512, bias=False)\n",
            "  (batch_norm1): BatchNorm1d(512, eps=1e-05, momentum=0.1, affine=True, track_running_stats=True)\n",
            "  (fc2): Linear(in_features=512, out_features=1024, bias=False)\n",
            "  (batch_norm2): BatchNorm1d(1024, eps=1e-05, momentum=0.1, affine=True, track_running_stats=True)\n",
            "  (fc3): Linear(in_features=1024, out_features=10, bias=True)\n",
            ")\n",
            "\n",
            "NeuralNet(\n",
            "  (fc1): Linear(in_features=784, out_features=512, bias=True)\n",
            "  (fc2): Linear(in_features=512, out_features=1024, bias=True)\n",
            "  (fc3): Linear(in_features=1024, out_features=10, bias=True)\n",
            ")\n"
          ],
          "name": "stdout"
        }
      ]
    },
    {
      "metadata": {
        "id": "tAG2SsJc3aN8",
        "colab_type": "code",
        "colab": {}
      },
      "cell_type": "code",
      "source": [
        "from torch import optim"
      ],
      "execution_count": 0,
      "outputs": []
    },
    {
      "metadata": {
        "id": "P-0DPPwp2dPt",
        "colab_type": "code",
        "colab": {}
      },
      "cell_type": "code",
      "source": [
        "def train(model,n_epochs=10):\n",
        "  \n",
        "  losses=[]\n",
        "  criterion = nn.CrossEntropyLoss()\n",
        "  optimizer = optim.SGD(model.parameters(),lr=0.01)\n",
        "  \n",
        "  model.train()\n",
        "  \n",
        "  for epoch in range(1,n_epochs+1):\n",
        "    train_loss = 0.0\n",
        "\n",
        "    batch_count=0\n",
        "    \n",
        "    for batch_idx,(data,target) in enumerate(train_loader):\n",
        "      optimizer.zero_grad()\n",
        "      logits = model(data)\n",
        "      \n",
        "      loss = criterion(logits,target)\n",
        "      loss.backward()\n",
        "      optimizer.step()\n",
        "      \n",
        "      train_loss += loss.item()\n",
        "      batch_count+=1\n",
        "      \n",
        "      \n",
        "    epoch_train_loss = train_loss/batch_count\n",
        "    losses.append(epoch_train_loss)\n",
        "    print('Epoch {} :\\tTraining loss:{:.6f} '.format(epoch,epoch_train_loss))\n",
        "    \n",
        "  return losses\n",
        "      \n",
        "  "
      ],
      "execution_count": 0,
      "outputs": []
    },
    {
      "metadata": {
        "id": "JJatiKSP3Xkk",
        "colab_type": "code",
        "colab": {
          "base_uri": "https://localhost:8080/",
          "height": 187
        },
        "outputId": "b33b1bd5-613c-445c-bf3f-d509acd05931"
      },
      "cell_type": "code",
      "source": [
        "losses_batch_norm = train(net_batchnorm)"
      ],
      "execution_count": 33,
      "outputs": [
        {
          "output_type": "stream",
          "text": [
            "Epoch 1 :\tTraining loss:0.321301 \n",
            "Epoch 2 :\tTraining loss:0.305478 \n",
            "Epoch 3 :\tTraining loss:0.295451 \n",
            "Epoch 4 :\tTraining loss:0.287831 \n",
            "Epoch 5 :\tTraining loss:0.281529 \n",
            "Epoch 6 :\tTraining loss:0.276055 \n",
            "Epoch 7 :\tTraining loss:0.271148 \n",
            "Epoch 8 :\tTraining loss:0.266658 \n",
            "Epoch 9 :\tTraining loss:0.262488 \n",
            "Epoch 10 :\tTraining loss:0.258572 \n"
          ],
          "name": "stdout"
        }
      ]
    },
    {
      "metadata": {
        "id": "BJYGes7E8S8K",
        "colab_type": "code",
        "colab": {
          "base_uri": "https://localhost:8080/",
          "height": 187
        },
        "outputId": "d2984001-998b-4b5e-c0a5-220ecef4f68e"
      },
      "cell_type": "code",
      "source": [
        "losses_batch_NO_norm = train(net_no_batchnorm)"
      ],
      "execution_count": 35,
      "outputs": [
        {
          "output_type": "stream",
          "text": [
            "Epoch 1 :\tTraining loss:0.983982 \n",
            "Epoch 2 :\tTraining loss:0.410457 \n",
            "Epoch 3 :\tTraining loss:0.352239 \n",
            "Epoch 4 :\tTraining loss:0.328378 \n",
            "Epoch 5 :\tTraining loss:0.314525 \n",
            "Epoch 6 :\tTraining loss:0.305221 \n",
            "Epoch 7 :\tTraining loss:0.298397 \n",
            "Epoch 8 :\tTraining loss:0.293088 \n",
            "Epoch 9 :\tTraining loss:0.288786 \n",
            "Epoch 10 :\tTraining loss:0.285197 \n"
          ],
          "name": "stdout"
        }
      ]
    },
    {
      "metadata": {
        "id": "s-l04x0I6WdY",
        "colab_type": "code",
        "colab": {
          "base_uri": "https://localhost:8080/",
          "height": 498
        },
        "outputId": "78bd2810-a3cb-4303-d940-122cb44101df"
      },
      "cell_type": "code",
      "source": [
        "fig,ax = plt.subplots(figsize=(12,8))\n",
        "plt.plot(losses_batch_norm,label='use_batch_norm')\n",
        "plt.plot(losses_batch_NO_norm,label='use_no_batch_norm')\n",
        "plt.title('training loss')\n",
        "plt.legend()\n",
        "plt.show()"
      ],
      "execution_count": 37,
      "outputs": [
        {
          "output_type": "display_data",
          "data": {
            "image/png": "[encoded data removed]",
            "text/plain": [
              "<Figure size 864x576 with 1 Axes>"
            ]
          },
          "metadata": {
            "tags": []
          }
        }
      ]
    },
    {
      "metadata": {
        "id": "73jwg3x18IEz",
        "colab_type": "code",
        "colab": {}
      },
      "cell_type": "code",
      "source": [
        "def test(model, train):\n",
        "    # initialize vars to monitor test loss and accuracy\n",
        "    class_correct = list(0. for i in range(10))\n",
        "    class_total = list(0. for i in range(10))\n",
        "    test_loss = 0.0\n",
        "\n",
        "    # set model to train or evaluation mode\n",
        "    # just to see the difference in behavior\n",
        "    if(train==True):\n",
        "        model.train()\n",
        "    if(train==False):\n",
        "        model.eval()\n",
        "    \n",
        "    # loss criterion\n",
        "    criterion = nn.CrossEntropyLoss()\n",
        "    \n",
        "    for batch_idx, (data, target) in enumerate(test_loader):\n",
        "        batch_size = data.size(0)\n",
        "        # forward pass: compute predicted outputs by passing inputs to the model\n",
        "        output = model(data)\n",
        "        # calculate the loss\n",
        "        loss = criterion(output, target)\n",
        "        # update average test loss \n",
        "        test_loss += loss.item()*batch_size\n",
        "        # convert output probabilities to predicted class\n",
        "        _, pred = torch.max(output, 1)\n",
        "        # compare predictions to true label\n",
        "        correct = np.squeeze(pred.eq(target.data.view_as(pred)))\n",
        "        # calculate test accuracy for each object class\n",
        "        for i in range(batch_size):\n",
        "            label = target.data[i]\n",
        "            class_correct[label] += correct[i].item()\n",
        "            class_total[label] += 1\n",
        "\n",
        "    print('Test Loss: {:.6f}\\n'.format(test_loss/len(test_loader.dataset)))\n",
        "\n",
        "    for i in range(10):\n",
        "        if class_total[i] > 0:\n",
        "            print('Test Accuracy of %5s: %2d%% (%2d/%2d)' % (\n",
        "                str(i), 100 * class_correct[i] / class_total[i],\n",
        "                np.sum(class_correct[i]), np.sum(class_total[i])))\n",
        "        else:\n",
        "            print('Test Accuracy of %5s: N/A (no training examples)' % (classes[i]))\n",
        "\n",
        "    print('\\nTest Accuracy (Overall): %2d%% (%2d/%2d)' % (\n",
        "        100. * np.sum(class_correct) / np.sum(class_total),\n",
        "        np.sum(class_correct), np.sum(class_total)))"
      ],
      "execution_count": 0,
      "outputs": []
    },
    {
      "metadata": {
        "id": "QtO_AM_uC3Q_",
        "colab_type": "code",
        "colab": {
          "base_uri": "https://localhost:8080/",
          "height": 255
        },
        "outputId": "607bd2d3-e6fa-48ac-93cd-405a5307a573"
      },
      "cell_type": "code",
      "source": [
        "test(net_batchnorm, train=True)"
      ],
      "execution_count": 56,
      "outputs": [
        {
          "output_type": "stream",
          "text": [
            "Test Loss: 0.285113\n",
            "\n",
            "Test Accuracy of     0: 97% (960/980)\n",
            "Test Accuracy of     1: 98% (1117/1135)\n",
            "Test Accuracy of     2: 87% (903/1032)\n",
            "Test Accuracy of     3: 90% (918/1010)\n",
            "Test Accuracy of     4: 91% (899/982)\n",
            "Test Accuracy of     5: 87% (782/892)\n",
            "Test Accuracy of     6: 93% (894/958)\n",
            "Test Accuracy of     7: 90% (934/1028)\n",
            "Test Accuracy of     8: 87% (850/974)\n",
            "Test Accuracy of     9: 91% (922/1009)\n",
            "\n",
            "Test Accuracy (Overall): 91% (9179/10000)\n"
          ],
          "name": "stdout"
        }
      ]
    },
    {
      "metadata": {
        "id": "aq1eLfs3C7Zz",
        "colab_type": "code",
        "colab": {
          "base_uri": "https://localhost:8080/",
          "height": 255
        },
        "outputId": "c39ea7f5-b62a-4f02-9e06-986daa2b281f"
      },
      "cell_type": "code",
      "source": [
        "test(net_batchnorm, train=False)"
      ],
      "execution_count": 43,
      "outputs": [
        {
          "output_type": "stream",
          "text": [
            "Test Loss: 0.300810\n",
            "\n",
            "Test Accuracy of     0: 97% (956/980)\n",
            "Test Accuracy of     1: 97% (1108/1135)\n",
            "Test Accuracy of     2: 86% (888/1032)\n",
            "Test Accuracy of     3: 92% (931/1010)\n",
            "Test Accuracy of     4: 90% (886/982)\n",
            "Test Accuracy of     5: 85% (762/892)\n",
            "Test Accuracy of     6: 94% (910/958)\n",
            "Test Accuracy of     7: 90% (929/1028)\n",
            "Test Accuracy of     8: 84% (821/974)\n",
            "Test Accuracy of     9: 92% (936/1009)\n",
            "\n",
            "Test Accuracy (Overall): 91% (9127/10000)\n"
          ],
          "name": "stdout"
        }
      ]
    },
    {
      "metadata": {
        "id": "fpv89PLxC_R0",
        "colab_type": "code",
        "colab": {
          "base_uri": "https://localhost:8080/",
          "height": 255
        },
        "outputId": "b240a86e-fc49-4507-e180-4074afbe4258"
      },
      "cell_type": "code",
      "source": [
        "test(net_no_batchnorm, train=False)"
      ],
      "execution_count": 44,
      "outputs": [
        {
          "output_type": "stream",
          "text": [
            "Test Loss: 0.281208\n",
            "\n",
            "Test Accuracy of     0: 98% (964/980)\n",
            "Test Accuracy of     1: 97% (1108/1135)\n",
            "Test Accuracy of     2: 88% (910/1032)\n",
            "Test Accuracy of     3: 89% (908/1010)\n",
            "Test Accuracy of     4: 91% (898/982)\n",
            "Test Accuracy of     5: 88% (791/892)\n",
            "Test Accuracy of     6: 94% (902/958)\n",
            "Test Accuracy of     7: 91% (937/1028)\n",
            "Test Accuracy of     8: 87% (854/974)\n",
            "Test Accuracy of     9: 91% (925/1009)\n",
            "\n",
            "Test Accuracy (Overall): 91% (9197/10000)\n"
          ],
          "name": "stdout"
        }
      ]
    },
    {
      "metadata": {
        "id": "eV3LNLmuDXEq",
        "colab_type": "code",
        "colab": {}
      },
      "cell_type": "code",
      "source": [
        ""
      ],
      "execution_count": 0,
      "outputs": []
    }
  ]
}