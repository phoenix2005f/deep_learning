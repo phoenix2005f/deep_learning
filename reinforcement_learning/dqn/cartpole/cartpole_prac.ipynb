{
 "cells": [
  {
   "cell_type": "markdown",
   "metadata": {},
   "source": [
    "# DQN cartpole\n",
    "> import 相關package"
   ]
  },
  {
   "cell_type": "code",
   "execution_count": 1,
   "metadata": {
    "collapsed": true
   },
   "outputs": [],
   "source": [
    "import torch\n",
    "import torch.nn as nn\n",
    "import torch.nn.functional as F\n",
    "import numpy as np\n",
    "import gym"
   ]
  },
  {
   "cell_type": "code",
   "execution_count": 2,
   "metadata": {
    "collapsed": true
   },
   "outputs": [],
   "source": [
    "env = gym.make('CartPole-v0')\n",
    "env = env.unwrapped"
   ]
  },
  {
   "cell_type": "code",
   "execution_count": 3,
   "metadata": {},
   "outputs": [
    {
     "data": {
      "text/plain": [
       "4"
      ]
     },
     "execution_count": 3,
     "metadata": {},
     "output_type": "execute_result"
    }
   ],
   "source": [
    "env.observation_space.shape[0]"
   ]
  },
  {
   "cell_type": "markdown",
   "metadata": {},
   "source": [
    "# 建立NET"
   ]
  },
  {
   "cell_type": "code",
   "execution_count": 4,
   "metadata": {
    "collapsed": true
   },
   "outputs": [],
   "source": [
    "# 超參數\n",
    "BATCH_SIZE = 32\n",
    "LR = 0.01                   # learning rate\n",
    "EPSILON = 0.9               # greedy policy\n",
    "GAMMA = 0.9                 # reward discount\n",
    "TARGET_REPLACE_ITER = 100   # target update frequency\n",
    "MEMORY_CAPACITY = 2000\n",
    "N_ACTIONS = env.action_space.n\n",
    "N_STATES = env.observation_space.shape[0]"
   ]
  },
  {
   "cell_type": "code",
   "execution_count": 5,
   "metadata": {},
   "outputs": [
    {
     "name": "stdout",
     "output_type": "stream",
     "text": [
      "Net(\n",
      "  (fc1): Linear(in_features=4, out_features=50, bias=True)\n",
      "  (out): Linear(in_features=50, out_features=2, bias=True)\n",
      ")\n"
     ]
    }
   ],
   "source": [
    "class Net(nn.Module):\n",
    "    def __init__(self):\n",
    "        super(Net,self).__init__()\n",
    "        self.fc1 = nn.Linear(N_STATES,50)\n",
    "        self.fc1.weight.data.normal_(0,0.1)\n",
    "        \n",
    "        self.out = nn.Linear(50,N_ACTIONS)\n",
    "        self.out.weight.data.normal_(0,0.1)\n",
    "        \n",
    "    def forward(self,x):\n",
    "        x = F.relu(self.fc1(x))\n",
    "        action_value = self.out(x)\n",
    "        \n",
    "        return action_value\n",
    "        \n",
    "N = Net()\n",
    "print(N)"
   ]
  },
  {
   "cell_type": "markdown",
   "metadata": {},
   "source": [
    "# 建立DQN \n",
    "> 同樣架構網路 但一個是target network,另一個是eval network"
   ]
  },
  {
   "cell_type": "code",
   "execution_count": 10,
   "metadata": {},
   "outputs": [],
   "source": [
    "class DQN(object):\n",
    "    def __init__(self):\n",
    "        self.eval_net, self.target_net = Net(), Net()\n",
    "\n",
    "        self.learn_step_counter = 0                                     \n",
    "        self.memory_counter = 0                                        \n",
    "        self.memory = np.zeros((MEMORY_CAPACITY, N_STATES * 2 + 2))     \n",
    "        self.optimizer = torch.optim.Adam(self.eval_net.parameters(), lr=LR)\n",
    "        self.loss_func = nn.MSELoss()\n",
    "\n",
    "    def choose_action(self, x):\n",
    "        x = torch.unsqueeze(torch.FloatTensor(x), 0)\n",
    "        \n",
    "        \n",
    "        if np.random.uniform() < EPSILON:   # 選q值較大的action\n",
    "            actions_value = self.eval_net.forward(x)\n",
    "            action = torch.argmax(actions_value, 1).item()\n",
    "            \n",
    "        else:   # 有很小的機率可以自由選擇\n",
    "            action = np.random.randint(0, N_ACTIONS)\n",
    "        return action\n",
    "\n",
    "    def store_transition(self, s, a, r, s_):\n",
    "        transition = np.hstack((s, a, r, s_))\n",
    "        \n",
    "        index = self.memory_counter % MEMORY_CAPACITY\n",
    "        self.memory[index, :] = transition\n",
    "        self.memory_counter += 1\n",
    "\n",
    "    def learn(self):\n",
    "        # 一定的步數後,將eval_net參數同步到target_net參數\n",
    "        if self.learn_step_counter % TARGET_REPLACE_ITER == 0:\n",
    "            self.target_net.load_state_dict(self.eval_net.state_dict())\n",
    "        self.learn_step_counter += 1\n",
    "\n",
    "        # 從memory中取隨機取batch個entry去訓練\n",
    "        sample_index = np.random.choice(MEMORY_CAPACITY, BATCH_SIZE)\n",
    "        b_memory = self.memory[sample_index, :]\n",
    "        b_s = torch.FloatTensor(b_memory[:, :N_STATES])\n",
    "        b_a = torch.LongTensor(b_memory[:, N_STATES:N_STATES+1].astype(int))\n",
    "        b_r = torch.FloatTensor(b_memory[:, N_STATES+1:N_STATES+2])\n",
    "        b_s_ = torch.FloatTensor(b_memory[:, -N_STATES:])\n",
    "\n",
    "        # 回傳action所對應的q值\n",
    "        q_eval = self.eval_net(b_s).gather(1, b_a)\n",
    "        \n",
    "        # shape(batch,n_actions) , 要detach,這是不更新的網路,沒detach的話每次backward都會更新參數\n",
    "        q_next = self.target_net(b_s_).detach()\n",
    "        \n",
    "        \n",
    "        q_target = b_r + GAMMA * q_next.max(1)[0].view(BATCH_SIZE, 1)   # shape (batch, 1)\n",
    "        loss = self.loss_func(q_eval, q_target)\n",
    "\n",
    "        ## 記得要加zero_grad 每輪都要清掉梯度\n",
    "        self.optimizer.zero_grad()\n",
    "        loss.backward()\n",
    "        self.optimizer.step()\n",
    "\n",
    "\n",
    "        "
   ]
  },
  {
   "cell_type": "code",
   "execution_count": 11,
   "metadata": {},
   "outputs": [],
   "source": [
    "dqn = DQN()"
   ]
  },
  {
   "cell_type": "markdown",
   "metadata": {},
   "source": [
    "# 跑環境"
   ]
  },
  {
   "cell_type": "code",
   "execution_count": 12,
   "metadata": {
    "collapsed": true
   },
   "outputs": [],
   "source": [
    "n_epochs = 200"
   ]
  },
  {
   "cell_type": "code",
   "execution_count": 13,
   "metadata": {},
   "outputs": [
    {
     "name": "stdout",
     "output_type": "stream",
     "text": [
      "Ep:  168 | Ep_r:  4.18\n",
      "Ep:  169 | Ep_r:  2.51\n",
      "Ep:  170 | Ep_r:  1.78\n",
      "Ep:  171 | Ep_r:  2.26\n",
      "Ep:  172 | Ep_r:  2.93\n",
      "Ep:  173 | Ep_r:  3.29\n",
      "Ep:  174 | Ep_r:  1.69\n",
      "Ep:  175 | Ep_r:  1.19\n",
      "Ep:  176 | Ep_r:  3.08\n",
      "Ep:  177 | Ep_r:  3.46\n",
      "Ep:  178 | Ep_r:  0.78\n",
      "Ep:  179 | Ep_r:  2.92\n",
      "Ep:  180 | Ep_r:  2.05\n",
      "Ep:  181 | Ep_r:  2.88\n",
      "Ep:  182 | Ep_r:  3.16\n",
      "Ep:  183 | Ep_r:  2.14\n",
      "Ep:  184 | Ep_r:  2.68\n",
      "Ep:  185 | Ep_r:  1.82\n",
      "Ep:  186 | Ep_r:  2.39\n",
      "Ep:  187 | Ep_r:  2.38\n",
      "Ep:  188 | Ep_r:  2.9\n",
      "Ep:  189 | Ep_r:  1.83\n",
      "Ep:  190 | Ep_r:  3.08\n",
      "Ep:  191 | Ep_r:  2.98\n",
      "Ep:  192 | Ep_r:  3.05\n",
      "Ep:  193 | Ep_r:  4.59\n",
      "Ep:  194 | Ep_r:  0.91\n",
      "Ep:  195 | Ep_r:  7.2\n",
      "Ep:  196 | Ep_r:  2.08\n",
      "Ep:  197 | Ep_r:  6.31\n",
      "Ep:  198 | Ep_r:  2.52\n",
      "Ep:  199 | Ep_r:  3.93\n"
     ]
    }
   ],
   "source": [
    "env = gym.make('CartPole-v0')\n",
    "env = env.unwrapped\n",
    "for i_episode in range(n_epochs):\n",
    "    s = env.reset()\n",
    "    ep_r = 0\n",
    "    while True:\n",
    "        env.render()\n",
    "        a = dqn.choose_action(s)\n",
    "\n",
    "        # take action\n",
    "        s_, r, done, info = env.step(a)\n",
    "\n",
    "        # modify the reward\n",
    "        x, x_dot, theta, theta_dot = s_\n",
    "        \n",
    "        \n",
    "        # reward要重新定義 預設是 : Reward is 1 for every step taken, including the termination step\n",
    "        ## env.x_threshold代表x方向的最大距離,r1越大代表越靠近中間\n",
    "        ## -0.8是要讓reward 不要那麼通膨, 最中間也只能拿 1-0.8 = 0.2 reward\n",
    "        ## -0.8不加也是可以train的起來的\n",
    "        r1 = (env.x_threshold - abs(x)) / env.x_threshold -0.8\n",
    "        \n",
    "        ## 角度越接近正垂直，r2越大\n",
    "        ## -0.5同上是修正值\n",
    "        r2 = (env.theta_threshold_radians - abs(theta)) / env.theta_threshold_radians -0.5\n",
    "        r = r1 + r2\n",
    "\n",
    "        dqn.store_transition(s, a, r, s_)\n",
    "\n",
    "        ep_r += r\n",
    "        if dqn.memory_counter > MEMORY_CAPACITY:\n",
    "            dqn.learn()\n",
    "            if done:\n",
    "                print('Ep: ', i_episode,\n",
    "                      '| Ep_r: ', round(ep_r, 2))\n",
    "\n",
    "        if done:\n",
    "            break\n",
    "        s = s_\n",
    "env.close()\n"
   ]
  },
  {
   "cell_type": "code",
   "execution_count": null,
   "metadata": {
    "collapsed": true
   },
   "outputs": [],
   "source": []
  }
 ],
 "metadata": {
  "kernelspec": {
   "display_name": "Python 3",
   "language": "python",
   "name": "python3"
  },
  "language_info": {
   "codemirror_mode": {
    "name": "ipython",
    "version": 3
   },
   "file_extension": ".py",
   "mimetype": "text/x-python",
   "name": "python",
   "nbconvert_exporter": "python",
   "pygments_lexer": "ipython3",
   "version": "3.6.1"
  }
 },
 "nbformat": 4,
 "nbformat_minor": 2
}
